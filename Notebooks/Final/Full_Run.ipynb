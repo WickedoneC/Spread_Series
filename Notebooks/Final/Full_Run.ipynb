{
 "cells": [
  {
   "cell_type": "code",
   "execution_count": null,
   "metadata": {},
   "outputs": [],
   "source": [
    "# pull data\n",
    "# select columns \n",
    "# set date as index for each df\n",
    "# combine dataframes\n",
    "# make new column with difference\n",
    "# drop original columns\n",
    "# would be helpful to model the components\n",
    "# model the data\n",
    "# fit and get predictions\n",
    "# find mse\n",
    "\n",
    "# write it in a function\n",
    "# could write a function for each"
   ]
  },
  {
   "cell_type": "markdown",
   "metadata": {},
   "source": [
    "#### Importing Data and Formatting Dataframe"
   ]
  },
  {
   "cell_type": "code",
   "execution_count": null,
   "metadata": {},
   "outputs": [],
   "source": [
    "import pandas as pd\n",
    "import \n",
    "import quandl\n",
    "import matplotlib.pyplot as plt\n",
    "from sklearn.metrics import mean_squared_error\n",
    "from statsmodels.tsa.arima_model import ARMA\n",
    "import statsmodels.api as sm\n",
    "\n",
    "%matplotlib inline"
   ]
  },
  {
   "cell_type": "code",
   "execution_count": null,
   "metadata": {},
   "outputs": [],
   "source": [
    "cb_iy = quandl.get(\"ML/USEY\", authtoken=\"aG9j5L1aZEe7Gti-5m1D\")\n",
    "tyc_r = quandl.get(\"USTREASURY/YIELD\", authtoken=\"aG9j5L1aZEe7Gti-5m1D\")"
   ]
  },
  {
   "cell_type": "code",
   "execution_count": null,
   "metadata": {},
   "outputs": [],
   "source": []
  }
 ],
 "metadata": {
  "kernelspec": {
   "display_name": "Python 3",
   "language": "python",
   "name": "python3"
  },
  "language_info": {
   "codemirror_mode": {
    "name": "ipython",
    "version": 3
   },
   "file_extension": ".py",
   "mimetype": "text/x-python",
   "name": "python",
   "nbconvert_exporter": "python",
   "pygments_lexer": "ipython3",
   "version": "3.7.4"
  }
 },
 "nbformat": 4,
 "nbformat_minor": 4
}
