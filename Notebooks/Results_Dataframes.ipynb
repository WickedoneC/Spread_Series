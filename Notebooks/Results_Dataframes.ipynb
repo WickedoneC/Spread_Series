{
 "cells": [
  {
   "cell_type": "code",
   "execution_count": null,
   "metadata": {},
   "outputs": [],
   "source": [
    "import pandas as pd\n",
    "import quandl\n",
    "from sklearn.metrics import mean_squared_error"
   ]
  },
  {
   "cell_type": "code",
   "execution_count": null,
   "metadata": {},
   "outputs": [],
   "source": [
    "cb_iy = quandl.get(\"ML/USEY\")\n",
    "tyc_r = quandl.get(\"USTREASURY/YIELD\")\n",
    "tyc_r = tyc_r[['10 YR']]"
   ]
  },
  {
   "cell_type": "code",
   "execution_count": null,
   "metadata": {},
   "outputs": [],
   "source": [
    "tyc_r = tyc_r.loc['1996-12-31':'2020-04-20']"
   ]
  },
  {
   "cell_type": "code",
   "execution_count": null,
   "metadata": {},
   "outputs": [],
   "source": [
    "cb_iy.index.names = ['Date']\n",
    "tyc_r.index.names = ['Date']"
   ]
  },
  {
   "cell_type": "code",
   "execution_count": null,
   "metadata": {},
   "outputs": [],
   "source": [
    "df = tyc_r.merge(cb_iy, right_index=True, left_index=True)"
   ]
  },
  {
   "cell_type": "code",
   "execution_count": null,
   "metadata": {},
   "outputs": [],
   "source": [
    "df.isna().sum()"
   ]
  },
  {
   "cell_type": "code",
   "execution_count": null,
   "metadata": {},
   "outputs": [],
   "source": [
    "df['Spread'] = df['BAMLC0A0CMEY'] - df['10 YR']"
   ]
  },
  {
   "cell_type": "code",
   "execution_count": null,
   "metadata": {},
   "outputs": [],
   "source": [
    "df.isna().sum()"
   ]
  },
  {
   "cell_type": "code",
   "execution_count": null,
   "metadata": {},
   "outputs": [],
   "source": [
    "df_s = df[['Spread']]"
   ]
  },
  {
   "cell_type": "code",
   "execution_count": null,
   "metadata": {},
   "outputs": [],
   "source": [
    "df = df_s\n",
    "df['2020-01-20':'2020-04-20']"
   ]
  },
  {
   "cell_type": "code",
   "execution_count": null,
   "metadata": {},
   "outputs": [],
   "source": []
  },
  {
   "cell_type": "code",
   "execution_count": null,
   "metadata": {},
   "outputs": [],
   "source": [
    "#import arima results\n",
    "#import fbprophet results"
   ]
  },
  {
   "cell_type": "code",
   "execution_count": null,
   "metadata": {},
   "outputs": [],
   "source": []
  },
  {
   "cell_type": "code",
   "execution_count": null,
   "metadata": {},
   "outputs": [],
   "source": [
    "dfr = pd.date_range(start=date(2020, 4, 21), end=date(2020, 7, 31), freq='D') #need to adjust end date\n",
    "dfr = pd.DataFrame(dfr, columns=['Date'])\n",
    "dfr.set_index('Date', inplace=True)\n",
    "dfr['Spread'] = 0"
   ]
  },
  {
   "cell_type": "code",
   "execution_count": null,
   "metadata": {},
   "outputs": [],
   "source": []
  },
  {
   "cell_type": "code",
   "execution_count": null,
   "metadata": {},
   "outputs": [],
   "source": [
    "#need to import results csvs\n",
    "#then need to compute mse for each forecast length\n",
    "#once finalized, need to run end to end notebook"
   ]
  },
  {
   "cell_type": "code",
   "execution_count": null,
   "metadata": {},
   "outputs": [],
   "source": [
    "forecast_5 = pd.read_csv('/Users/wickedbear/Coding/Projects/Spread_Series/CSVs/5_days.csv')\n",
    "forecast_30 = pd.read_csv('/Users/wickedbear/Coding/Projects/Spread_Series/CSVs/30_days.csv')\n",
    "forecast_60 = pd.read_csv('/Users/wickedbear/Coding/Projects/Spread_Series/CSVs/60_days.csv')\n",
    "forecast_90 = pd.read_csv('/Users/wickedbear/Coding/Projects/Spread_Series/CSVs/90_days.csv')\n",
    "forecast_120 = pd.read_csv('/Users/wickedbear/Coding/Projects/Spread_Series/CSVs/120_days.csv')"
   ]
  },
  {
   "cell_type": "code",
   "execution_count": null,
   "metadata": {},
   "outputs": [],
   "source": [
    "y_truth = #recent spread information\n",
    "y_forecasted = #csv forecast values\n",
    "# end dates need to be the same\n",
    "mean_squared_error(y_truth , y_forecasted)"
   ]
  }
 ],
 "metadata": {
  "kernelspec": {
   "display_name": "Python 3",
   "language": "python",
   "name": "python3"
  },
  "language_info": {
   "codemirror_mode": {
    "name": "ipython",
    "version": 3
   },
   "file_extension": ".py",
   "mimetype": "text/x-python",
   "name": "python",
   "nbconvert_exporter": "python",
   "pygments_lexer": "ipython3",
   "version": "3.7.4"
  }
 },
 "nbformat": 4,
 "nbformat_minor": 4
}
