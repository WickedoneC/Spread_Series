{
 "cells": [
  {
   "cell_type": "code",
   "execution_count": null,
   "metadata": {},
   "outputs": [],
   "source": [
    "# pull data\n",
    "# select columns \n",
    "# set date as index for each df\n",
    "# combine dataframes\n",
    "# make new column with difference\n",
    "# drop original columns\n",
    "# would be helpful to model the components\n",
    "# model the data\n",
    "# fit and get predictions\n",
    "# find mse\n",
    "\n",
    "# write it in a function\n",
    "# could write a function for each"
   ]
  }
 ],
 "metadata": {
  "kernelspec": {
   "display_name": "Python 3",
   "language": "python",
   "name": "python3"
  },
  "language_info": {
   "codemirror_mode": {
    "name": "ipython",
    "version": 3
   },
   "file_extension": ".py",
   "mimetype": "text/x-python",
   "name": "python",
   "nbconvert_exporter": "python",
   "pygments_lexer": "ipython3",
   "version": "3.7.4"
  }
 },
 "nbformat": 4,
 "nbformat_minor": 4
}
